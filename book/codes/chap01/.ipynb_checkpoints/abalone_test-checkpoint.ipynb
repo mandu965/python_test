{
 "cells": [
  {
   "cell_type": "code",
   "execution_count": 1,
   "metadata": {},
   "outputs": [],
   "source": [
    "%run abalone.ipynb"
   ]
  },
  {
   "cell_type": "code",
   "execution_count": 6,
   "metadata": {},
   "outputs": [
    {
     "name": "stdout",
     "output_type": "stream",
     "text": [
      "123\n",
      "Epoch 1: loss=7.456, accuracy=0.804/0.802\n",
      "Epoch 2: loss=6.356, accuracy=0.816/0.846\n",
      "Epoch 3: loss=5.756, accuracy=0.825/0.838\n",
      "Epoch 4: loss=5.561, accuracy=0.828/0.851\n",
      "Epoch 5: loss=5.407, accuracy=0.830/0.848\n",
      "Epoch 6: loss=5.333, accuracy=0.830/0.832\n",
      "Epoch 7: loss=5.211, accuracy=0.834/0.838\n",
      "Epoch 8: loss=5.161, accuracy=0.834/0.801\n",
      "Epoch 9: loss=5.151, accuracy=0.834/0.848\n",
      "Epoch 10: loss=5.196, accuracy=0.833/0.844\n",
      "\n",
      "Final Test: final accuracy = 0.844\n"
     ]
    }
   ],
   "source": [
    "abalone_exec()"
   ]
  },
  {
   "cell_type": "code",
   "execution_count": 3,
   "metadata": {},
   "outputs": [
    {
     "name": "stdout",
     "output_type": "stream",
     "text": [
      "[[1.02697603]\n",
      " [1.47450981]\n",
      " [1.66960135]\n",
      " [2.04468668]\n",
      " [1.62513525]\n",
      " [0.60292627]\n",
      " [2.39993815]\n",
      " [0.54107313]\n",
      " [0.46878034]\n",
      " [1.01969382]]\n",
      "[4.16894769]\n"
     ]
    }
   ],
   "source": [
    "print(weight)\n",
    "print(bias)"
   ]
  },
  {
   "cell_type": "code",
   "execution_count": 4,
   "metadata": {},
   "outputs": [
    {
     "name": "stdout",
     "output_type": "stream",
     "text": [
      "123\n",
      "Epoch 20: loss=5.804, accuracy=0.825/0.831\n",
      "Epoch 40: loss=5.259, accuracy=0.834/0.828\n",
      "Epoch 60: loss=5.056, accuracy=0.837/0.838\n",
      "Epoch 80: loss=4.950, accuracy=0.838/0.840\n",
      "Epoch 100: loss=4.910, accuracy=0.840/0.826\n",
      "\n",
      "Final Test: final accuracy = 0.826\n"
     ]
    }
   ],
   "source": [
    "LEARNING_RATE = 0.1\n",
    "abalone_exec(epoch_count=100, mb_size=100, report=20)"
   ]
  }
 ],
 "metadata": {
  "kernelspec": {
   "display_name": "Python 3",
   "language": "python",
   "name": "python3"
  },
  "language_info": {
   "codemirror_mode": {
    "name": "ipython",
    "version": 3
   },
   "file_extension": ".py",
   "mimetype": "text/x-python",
   "name": "python",
   "nbconvert_exporter": "python",
   "pygments_lexer": "ipython3",
   "version": "3.7.4"
  }
 },
 "nbformat": 4,
 "nbformat_minor": 2
}
