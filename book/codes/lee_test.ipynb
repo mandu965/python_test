{
 "cells": [
  {
   "cell_type": "code",
   "execution_count": 14,
   "metadata": {},
   "outputs": [
    {
     "name": "stdout",
     "output_type": "stream",
     "text": [
      "[5.16941032 5.13012154 4.84449199 ... 5.1361477  5.14269196 5.05819967]\n",
      "[ 0  1  2  3  4  5  6  7  8  9 10 11]\n",
      "[ 0  4  9  7  5  1 11  3  8  2 10  6]\n"
     ]
    }
   ],
   "source": [
    "import numpy as np\n",
    "import csv\n",
    "import time\n",
    "\n",
    "input_cnt, output_cnt = 10, 1\n",
    "data = np.zeros([3, input_cnt + output_cnt])\n",
    "\n",
    "\n",
    "print(np.random.normal(5,0.1,1100))\n",
    "shuffle_map = np.arange(12)\n",
    "print(shuffle_map)\n",
    "np.random.shuffle(shuffle_map)\n",
    "print(shuffle_map)"
   ]
  }
 ],
 "metadata": {
  "kernelspec": {
   "display_name": "Python 3",
   "language": "python",
   "name": "python3"
  },
  "language_info": {
   "codemirror_mode": {
    "name": "ipython",
    "version": 3
   },
   "file_extension": ".py",
   "mimetype": "text/x-python",
   "name": "python",
   "nbconvert_exporter": "python",
   "pygments_lexer": "ipython3",
   "version": "3.7.4"
  }
 },
 "nbformat": 4,
 "nbformat_minor": 2
}
