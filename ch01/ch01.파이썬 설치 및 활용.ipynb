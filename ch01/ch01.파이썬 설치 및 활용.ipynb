{
 "cells": [
  {
   "cell_type": "code",
   "execution_count": 18,
   "metadata": {},
   "outputs": [
    {
     "name": "stdout",
     "output_type": "stream",
     "text": [
      "tot 데이터 타입은 :  <class 'float'> 입니다\n",
      "이름: 홍길동\n",
      "데이터: 3.50000\n",
      "데이터: 3.50000--- 이름 : 홍길동\n"
     ]
    }
   ],
   "source": [
    "# 변수선언\n",
    "tot = 3.5\n",
    "name = '홍길동'\n",
    "print('tot 데이터 타입은 : ' ,type(tot), '입니다' )\n",
    "print('이름: %s'%name )\n",
    "print('데이터: %0.5f'%tot )\n",
    "print('데이터: %0.5f--- 이름 : %s' %(tot, name) )"
   ]
  }
 ],
 "metadata": {
  "kernelspec": {
   "display_name": "Python 3",
   "language": "python",
   "name": "python3"
  },
  "language_info": {
   "codemirror_mode": {
    "name": "ipython",
    "version": 3
   },
   "file_extension": ".py",
   "mimetype": "text/x-python",
   "name": "python",
   "nbconvert_exporter": "python",
   "pygments_lexer": "ipython3",
   "version": "3.7.4"
  }
 },
 "nbformat": 4,
 "nbformat_minor": 2
}
