{
 "cells": [
  {
   "cell_type": "code",
   "execution_count": 1,
   "metadata": {},
   "outputs": [
    {
     "name": "stdout",
     "output_type": "stream",
     "text": [
      "tot 데이터 타입은 :  <class 'float'> 입니다\n",
      "이름: 홍길동\n",
      "데이터: 3.50000\n",
      "데이터: 3.50000--- 이름 : 홍길동\n"
     ]
    }
   ],
   "source": [
    "# 변수선언\n",
    "tot = 3.5\n",
    "name = '홍길동'\n",
    "print('tot 데이터 타입은 : ' ,type(tot), '입니다' )\n",
    "print('이름: %s'%name )\n",
    "print('데이터: %0.5f'%tot )\n",
    "print('데이터: %0.5f--- 이름 : %s' %(tot, name) )"
   ]
  },
  {
   "cell_type": "code",
   "execution_count": null,
   "metadata": {},
   "outputs": [
    {
     "name": "stdout",
     "output_type": "stream",
     "text": [
      "123\n",
      "Epoch 1/5\n",
      "60000/60000 [==============================] - 10s 164us/step - loss: 0.6671 - accuracy: 0.8314\n",
      "Epoch 2/5\n",
      "60000/60000 [==============================] - 9s 143us/step - loss: 0.3449 - accuracy: 0.9036\n",
      "Epoch 3/5\n",
      "60000/60000 [==============================] - 9s 145us/step - loss: 0.2956 - accuracy: 0.9165\n",
      "Epoch 4/5\n",
      "60000/60000 [==============================] - 9s 155us/step - loss: 0.2659 - accuracy: 0.9245\n",
      "Epoch 5/5\n",
      "15360/60000 [======>.......................] - ETA: 7s - loss: 0.2478 - accuracy: 0.9303"
     ]
    }
   ],
   "source": [
    "# 0. 사용할 패키지 불러오기\n",
    "from keras.utils import np_utils\n",
    "from keras.datasets import mnist\n",
    "from keras.models import Sequential\n",
    "from keras.layers import Dense, Activation\n",
    "print('123')\n",
    "# 1. 데이터셋 생성하기\n",
    "(x_train, y_train), (x_test, y_test) = mnist.load_data()\n",
    "x_train = x_train.reshape(60000, 784).astype('float32') / 255.0\n",
    "x_test = x_test.reshape(10000, 784).astype('float32') / 255.0\n",
    "y_train = np_utils.to_categorical(y_train)\n",
    "y_test = np_utils.to_categorical(y_test)\n",
    "\n",
    "# 2. 모델 구성하기\n",
    "model = Sequential()\n",
    "model.add(Dense(units=64, input_dim=28*28, activation='relu'))\n",
    "model.add(Dense(units=10, activation='softmax'))\n",
    "\n",
    "# 3. 모델 학습과정 설정하기\n",
    "model.compile(loss='categorical_crossentropy', optimizer='sgd', metrics=['accuracy'])\n",
    "\n",
    "# 4. 모델 학습시키기\n",
    "hist = model.fit(x_train, y_train, epochs=5, batch_size=32)\n",
    "\n",
    "# 5. 학습과정 살펴보기\n",
    "print('## training loss and acc ##')\n",
    "print(hist.history['loss'])\n",
    "print(hist.history['acc'])\n",
    "\n",
    "# 6. 모델 평가하기\n",
    "loss_and_metrics = model.evaluate(x_test, y_test, batch_size=32)\n",
    "print('## evaluation loss and_metrics ##')\n",
    "print(loss_and_metrics)\n",
    "\n",
    "# 7. 모델 사용하기\n",
    "xhat = x_test[0:1]\n",
    "yhat = model.predict(xhat)\n",
    "print('## yhat ##')\n",
    "print(yhat)"
   ]
  },
  {
   "cell_type": "code",
   "execution_count": null,
   "metadata": {},
   "outputs": [],
   "source": []
  }
 ],
 "metadata": {
  "kernelspec": {
   "display_name": "Python 3",
   "language": "python",
   "name": "python3"
  },
  "language_info": {
   "codemirror_mode": {
    "name": "ipython",
    "version": 3
   },
   "file_extension": ".py",
   "mimetype": "text/x-python",
   "name": "python",
   "nbconvert_exporter": "python",
   "pygments_lexer": "ipython3",
   "version": "3.7.6"
  }
 },
 "nbformat": 4,
 "nbformat_minor": 2
}
