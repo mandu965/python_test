{
 "cells": [
  {
   "cell_type": "code",
   "execution_count": 28,
   "metadata": {
    "scrolled": true
   },
   "outputs": [
    {
     "name": "stdout",
     "output_type": "stream",
     "text": [
      "2.0.0\n",
      "0\n",
      "1\n",
      "2\n",
      "3\n",
      "4\n",
      "5\n",
      "(0, 1)\n",
      "(1, 5)\n",
      "(2, 10)\n",
      "(3, 15)\n",
      "(2, 4)\n",
      "[1 2 3 4]\n"
     ]
    }
   ],
   "source": [
    "import numpy as np\n",
    "import tensorflow.compat.v1 as tf\n",
    "tf.disable_v2_behavior()\n",
    "\n",
    "\n",
    "print(tf.__version__)\n",
    "\n",
    "X = tf.placeholder(tf.float32,[None,784]) # 28*28 로 정의 되어있음 (x 데이터의 크기 )\n",
    "\n",
    "for i in range(6):\n",
    "    print(i)\n",
    "test = [1,5,10,15]\n",
    "\n",
    "#인덱스가 필요할때\n",
    "for i in enumerate(test):\n",
    "    print(i)\n",
    "    \n",
    "num_a = [1,2,3,4]\n",
    "num_b = [5,6,7,8]\n",
    "num = np.array([num_a, num_b])\n",
    "print(num.shape)\n",
    "print(num[0, :])"
   ]
  },
  {
   "cell_type": "code",
   "execution_count": null,
   "metadata": {},
   "outputs": [],
   "source": []
  }
 ],
 "metadata": {
  "kernelspec": {
   "display_name": "Python 3",
   "language": "python",
   "name": "python3"
  },
  "language_info": {
   "codemirror_mode": {
    "name": "ipython",
    "version": 3
   },
   "file_extension": ".py",
   "mimetype": "text/x-python",
   "name": "python",
   "nbconvert_exporter": "python",
   "pygments_lexer": "ipython3",
   "version": "3.7.7"
  }
 },
 "nbformat": 4,
 "nbformat_minor": 2
}
